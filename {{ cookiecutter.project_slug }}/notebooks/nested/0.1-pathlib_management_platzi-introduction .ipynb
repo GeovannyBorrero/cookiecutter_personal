{
 "cells": [
  {
   "cell_type": "markdown",
   "metadata": {},
   "source": [
    "# Paths management Platzi"
   ]
  },
  {
   "cell_type": "markdown",
   "metadata": {},
   "source": [
    "## Different python paths management systems"
   ]
  },
  {
   "cell_type": "markdown",
   "metadata": {},
   "source": [
    "### Pathlib"
   ]
  },
  {
   "cell_type": "code",
   "execution_count": 1,
   "metadata": {},
   "outputs": [],
   "source": [
    "import pathlib"
   ]
  },
  {
   "cell_type": "code",
   "execution_count": 14,
   "metadata": {},
   "outputs": [
    {
     "name": "stdout",
     "output_type": "stream",
     "text": [
      "True\n"
     ]
    }
   ],
   "source": [
    "CURRENT_DIR = pathlib.Path().resolve().parent.parent #almacena la direccion\n",
    "DATA_DIR = CURRENT_DIR.joinpath(\"data\", \"raw\")#Verificamos los directorios\n",
    "print(DATA_DIR.is_dir())#verificamos la existencia de los directorios"
   ]
  },
  {
   "cell_type": "code",
   "execution_count": 17,
   "metadata": {},
   "outputs": [],
   "source": [
    "DATA_DIR.joinpath(\"pathlib\").mkdir()# crean un nuevo directorio"
   ]
  },
  {
   "cell_type": "code",
   "execution_count": 18,
   "metadata": {},
   "outputs": [
    {
     "data": {
      "text/plain": [
       "[PosixPath('/home/gioka/cookiecutter-personal/{{ cookiecutter.project_slug }}/data/raw/pathlib')]"
      ]
     },
     "execution_count": 18,
     "metadata": {},
     "output_type": "execute_result"
    }
   ],
   "source": [
    "list(DATA_DIR.glob(\"*\"))"
   ]
  },
  {
   "cell_type": "code",
   "execution_count": 19,
   "metadata": {},
   "outputs": [
    {
     "name": "stdout",
     "output_type": "stream",
     "text": [
      "None\n"
     ]
    }
   ],
   "source": [
    "print(DATA_DIR.joinpath(\"external_pathlib\", \"pathlib\", \"nested\").mkdir(parents=True, exist_ok=True)\n",
    ")"
   ]
  },
  {
   "cell_type": "markdown",
   "metadata": {},
   "source": [
    "## Adding root to the project"
   ]
  },
  {
   "cell_type": "code",
   "execution_count": 16,
   "metadata": {},
   "outputs": [],
   "source": [
    "import pyprojroot"
   ]
  },
  {
   "cell_type": "code",
   "execution_count": 17,
   "metadata": {},
   "outputs": [
    {
     "data": {
      "text/plain": [
       "PosixPath('/Users/jvelezmagic/Documents/Github/personal_projects/curso-entorno-avanzado-ds/data/raw')"
      ]
     },
     "execution_count": 17,
     "metadata": {},
     "output_type": "execute_result"
    }
   ],
   "source": [
    "pyprojroot.here().joinpath(\"data\", \"raw\")"
   ]
  },
  {
   "cell_type": "code",
   "execution_count": 18,
   "metadata": {},
   "outputs": [],
   "source": [
    "import pyhere"
   ]
  },
  {
   "cell_type": "code",
   "execution_count": 19,
   "metadata": {},
   "outputs": [
    {
     "data": {
      "text/plain": [
       "PosixPath('/Users/jvelezmagic/Documents/Github/personal_projects/curso-entorno-avanzado-ds/notebooks/../data/raw')"
      ]
     },
     "execution_count": 19,
     "metadata": {},
     "output_type": "execute_result"
    }
   ],
   "source": [
    "pyhere.here(\"data\", \"raw\")"
   ]
  },
  {
   "cell_type": "markdown",
   "metadata": {},
   "source": [
    "## Crete custom shortcuts"
   ]
  },
  {
   "cell_type": "code",
   "execution_count": 20,
   "metadata": {},
   "outputs": [],
   "source": [
    "# Nested function.\n",
    "def make_dir_function(dir_name):\n",
    "    def dir_function(*args):\n",
    "\n",
    "        if isinstance(dir_name, str):\n",
    "            return pyprojroot.here().joinpath(dir_name, *args)\n",
    "        else:\n",
    "            return pyprojroot.here().joinpath(*dir_name, *args)\n",
    "\n",
    "    return dir_function\n",
    "\n",
    "# Nested lambda.\n",
    "make_dir_function_lambda = lambda dir_name: lambda *args: pyprojroot.here().joinpath(dir_name, *args)"
   ]
  },
  {
   "cell_type": "code",
   "execution_count": 21,
   "metadata": {},
   "outputs": [
    {
     "data": {
      "text/plain": [
       "PosixPath('/Users/jvelezmagic/Documents/Github/personal_projects/curso-entorno-avanzado-ds/data/external/os/do')"
      ]
     },
     "execution_count": 21,
     "metadata": {},
     "output_type": "execute_result"
    }
   ],
   "source": [
    "data_dir = make_dir_function(\"data\")\n",
    "data_dir(\"external\", \"os\", \"do\")"
   ]
  },
  {
   "cell_type": "code",
   "execution_count": 22,
   "metadata": {},
   "outputs": [
    {
     "data": {
      "text/plain": [
       "PosixPath('/Users/jvelezmagic/Documents/Github/personal_projects/curso-entorno-avanzado-ds/figures/amazing/plots/here')"
      ]
     },
     "execution_count": 22,
     "metadata": {},
     "output_type": "execute_result"
    }
   ],
   "source": [
    "figures_dir = make_dir_function_lambda(\"figures\")\n",
    "figures_dir(\"amazing\", \"plots\", \"here\")"
   ]
  }
 ],
 "metadata": {
  "interpreter": {
   "hash": "3667fd0dbc297d5226e7ef1885d67dce146a156d511bfd89bb3a337a239de6a8"
  },
  "kernelspec": {
   "display_name": "Python 3.9.6 64-bit ('paths_management_platzi': conda)",
   "name": "python3"
  },
  "language_info": {
   "codemirror_mode": {
    "name": "ipython",
    "version": 3
   },
   "file_extension": ".py",
   "mimetype": "text/x-python",
   "name": "python",
   "nbconvert_exporter": "python",
   "pygments_lexer": "ipython3",
   "version": "3.10.12"
  },
  "orig_nbformat": 4
 },
 "nbformat": 4,
 "nbformat_minor": 2
}
